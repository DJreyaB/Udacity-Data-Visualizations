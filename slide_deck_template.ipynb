{
 "cells": [
  {
   "cell_type": "markdown",
   "metadata": {
    "slideshow": {
     "slide_type": "slide"
    }
   },
   "source": [
    "# Loans: Get Tested, Know Your Status\n",
    "## by D'Jreya Boyd"
   ]
  },
  {
   "cell_type": "markdown",
   "metadata": {
    "slideshow": {
     "slide_type": "slide"
    }
   },
   "source": [
    "## Investigation Overview\n",
    "\n",
    "> The goal of data investigation is to see what factors can affect the status of the loans\n",
    "\n",
    "## Dataset Overview\n",
    "\n",
    "> The original data is 113937 rows × 81 columns, however I focused on 17 columns. The separated data (loans2) consists of the same number of loans, however with only 15(Borrower APR, Borrower Rate, Loan Months Since Origination, Loan Status, Occupation, Employment Status, Employment Status Duration, Monthly Loan Payment , Loan Original Amount, Debt To Income Ratio, IncomeRange, Income Verifiable, Stated Monthly Income) variables. The majority of the variables are quantitative witha few qualitative such as loan status, occupation and income range."
   ]
  },
  {
   "cell_type": "code",
   "execution_count": 1,
   "metadata": {
    "slideshow": {
     "slide_type": "skip"
    }
   },
   "outputs": [],
   "source": [
    "# import all packages and set plots to be embedded inline\n",
    "import numpy as np\n",
    "import pandas as pd\n",
    "import matplotlib.pyplot as plt\n",
    "import seaborn as sb\n",
    "\n",
    "%matplotlib inline\n",
    "\n",
    "# suppress warnings from final output\n",
    "import warnings\n",
    "warnings.simplefilter(\"ignore\")"
   ]
  },
  {
   "cell_type": "code",
   "execution_count": 2,
   "metadata": {
    "slideshow": {
     "slide_type": "skip"
    }
   },
   "outputs": [],
   "source": [
    "# load in the dataset into a pandas dataframe\n",
    "loans = pd.read_csv('prosperLoanData.csv')"
   ]
  },
  {
   "cell_type": "code",
   "execution_count": 6,
   "metadata": {},
   "outputs": [],
   "source": [
    "def mkcat(y,x):\n",
    "    \"\"\"Takes the column y and converts the type to any type x\"\"\"\n",
    "    loans2_clean[y] = loans2_clean[y].astype(x)"
   ]
  },
  {
   "cell_type": "code",
   "execution_count": 8,
   "metadata": {},
   "outputs": [],
   "source": [
    "#Clean data slightly to help focus on certain columns\n",
    "loans2 = loans[['MemberKey','CreditGrade','LoanCurrentDaysDelinquent'\\\n",
    "                ,'BorrowerAPR','BorrowerRate','Term',\\\n",
    "                'LoanMonthsSinceOrigination','LoanStatus','Occupation',\\\n",
    "                'EmploymentStatus', 'EmploymentStatusDuration',\\\n",
    "                'MonthlyLoanPayment', 'LoanOriginalAmount',\\\n",
    "                'DebtToIncomeRatio','IncomeRange',\\\n",
    "                'IncomeVerifiable','StatedMonthlyIncome']]\n",
    "loans2 = loans2[np.isfinite(loans2['EmploymentStatusDuration'])]\n",
    "loans2_clean = loans2.copy()\n",
    "mkcat('Term','category')\n",
    "mkcat('LoanStatus','category')\n",
    "mkcat('EmploymentStatus', 'category')"
   ]
  },
  {
   "cell_type": "code",
   "execution_count": 10,
   "metadata": {},
   "outputs": [],
   "source": [
    "def infos(title,x,y):\n",
    "    plt.ylabel(y)\n",
    "    plt.xlabel(x)\n",
    "    plt.title(title);"
   ]
  },
  {
   "cell_type": "markdown",
   "metadata": {
    "slideshow": {
     "slide_type": "notes"
    }
   },
   "source": [
    "> Note that the above cells have been set as \"Skip\"-type slides. That means\n",
    "that when the notebook is rendered as http slides, those cells won't show up."
   ]
  },
  {
   "cell_type": "markdown",
   "metadata": {
    "slideshow": {
     "slide_type": "slide"
    }
   },
   "source": [
    "## (Visualization 1)\n",
    "\n",
    "> From this graph"
   ]
  },
  {
   "cell_type": "code",
   "execution_count": 13,
   "metadata": {
    "slideshow": {
     "slide_type": "subslide"
    }
   },
   "outputs": [
    {
     "data": {
      "image/png": "[encoded data removed]",
      "text/plain": [
       "<Figure size 432x288 with 1 Axes>"
      ]
     },
     "metadata": {
      "needs_background": "light"
     },
     "output_type": "display_data"
    }
   ],
   "source": [
    "#Loan Status\n",
    "base_color = sb.color_palette()[0]\n",
    "status_order = loans2_clean.LoanStatus.value_counts().index\n",
    "sb.countplot(data= loans2_clean, x = 'LoanStatus', color = base_color, order = status_order)\n",
    "plt.xticks(rotation = 90)\n",
    "infos('Loan Status Frequency','Loan Status','Frequency') ;"
   ]
  },
  {
   "cell_type": "markdown",
   "metadata": {
    "slideshow": {
     "slide_type": "slide"
    }
   },
   "source": [
    "## (Visualization 2)\n",
    "\n",
    "> From this graph it appears longer term loans with higher original amounts tend to have lower interest rates"
   ]
  },
  {
   "cell_type": "code",
   "execution_count": null,
   "metadata": {
    "slideshow": {
     "slide_type": "subslide"
    }
   },
   "outputs": [],
   "source": [
    "# Term to Loan Status (qual vs qual)\n",
    "status_order = ['Current','Completed', 'Chargedoff', 'Defaulted']\n",
    "loans2_clean.Term.cat.reorder_categories([36, 60, 12], inplace=True)\n",
    "sb.countplot(data = loans2_clean, x = 'LoanStatus', hue = 'Term', order = status_order )\n",
    "plt.xticks(rotation = 70);"
   ]
  },
  {
   "cell_type": "markdown",
   "metadata": {
    "slideshow": {
     "slide_type": "slide"
    }
   },
   "source": [
    "## (Visualization 3)\n",
    "\n"
   ]
  },
  {
   "cell_type": "code",
   "execution_count": null,
   "metadata": {
    "slideshow": {
     "slide_type": "subslide"
    }
   },
   "outputs": [],
   "source": [
    "#Using color as the encoding for the third variable(Term)\n",
    "sb.lmplot(x='LoanOriginalAmount', y='BorrowerRate', hue='Term', \n",
    "           data = loans2_clean.loc[loans2_clean['Term'].isin([36, 60 ,12])], \n",
    "           fit_reg=False)\n",
    "infos('Loan Amount vs Borrower Rate by Term','Loan Original Amount', 'Borrower Rate');"
   ]
  },
  {
   "cell_type": "markdown",
   "metadata": {
    "slideshow": {
     "slide_type": "notes"
    }
   },
   "source": [
    "> Once you're ready to finish your presentation, check your output by using\n",
    "nbconvert to export the notebook and set up a server for the slides. From the\n",
    "terminal or command line, use the following expression:\n",
    "> > `jupyter nbconvert <file_name>.ipynb --to slides --post serve --template output_toggle`\n",
    "\n",
    "> This should open a tab in your web browser where you can scroll through your\n",
    "presentation. Sub-slides can be accessed by pressing 'down' when viewing its parent\n",
    "slide. Make sure you remove all of the quote-formatted guide notes like this one\n",
    "before you finish your presentation!"
   ]
  },
  {
   "cell_type": "code",
   "execution_count": null,
   "metadata": {},
   "outputs": [],
   "source": []
  }
 ],
 "metadata": {
  "celltoolbar": "Slideshow",
  "kernelspec": {
   "display_name": "Python 3",
   "language": "python",
   "name": "python3"
  },
  "language_info": {
   "codemirror_mode": {
    "name": "ipython",
    "version": 3
   },
   "file_extension": ".py",
   "mimetype": "text/x-python",
   "name": "python",
   "nbconvert_exporter": "python",
   "pygments_lexer": "ipython3",
   "version": "3.7.0"
  }
 },
 "nbformat": 4,
 "nbformat_minor": 2
}
